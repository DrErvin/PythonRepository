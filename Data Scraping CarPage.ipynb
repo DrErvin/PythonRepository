{
 "cells": [
  {
   "cell_type": "code",
   "execution_count": 2,
   "id": "4aea5c08-62db-4566-86f6-9afbe7eaa8a3",
   "metadata": {},
   "outputs": [],
   "source": [
    "import re\n",
    "from bs4 import BeautifulSoup\n",
    "import lxml\n",
    "import requests\n",
    "import pandas as pd\n",
    "page = requests.get(\"https://www.carpages.ca/used-cars/search/?category_id=6\")\n",
    "soup = BeautifulSoup(page.text, \"lxml\")"
   ]
  },
  {
   "cell_type": "code",
   "execution_count": 3,
   "id": "44bf629a-b03a-4aa0-a4d4-1ef3f9464f92",
   "metadata": {},
   "outputs": [
    {
     "data": {
      "text/html": [
       "<div>\n",
       "<style scoped>\n",
       "    .dataframe tbody tr th:only-of-type {\n",
       "        vertical-align: middle;\n",
       "    }\n",
       "\n",
       "    .dataframe tbody tr th {\n",
       "        vertical-align: top;\n",
       "    }\n",
       "\n",
       "    .dataframe thead th {\n",
       "        text-align: right;\n",
       "    }\n",
       "</style>\n",
       "<table border=\"1\" class=\"dataframe\">\n",
       "  <thead>\n",
       "    <tr style=\"text-align: right;\">\n",
       "      <th></th>\n",
       "      <th>Link</th>\n",
       "      <th>Name</th>\n",
       "      <th>Price</th>\n",
       "      <th>Color</th>\n",
       "    </tr>\n",
       "  </thead>\n",
       "  <tbody>\n",
       "  </tbody>\n",
       "</table>\n",
       "</div>"
      ],
      "text/plain": [
       "Empty DataFrame\n",
       "Columns: [Link, Name, Price, Color]\n",
       "Index: []"
      ]
     },
     "execution_count": 3,
     "metadata": {},
     "output_type": "execute_result"
    }
   ],
   "source": [
    "df = pd.DataFrame({\"Link\": [], \"Name\": [], \"Price\": [], \"Color\": []})\n",
    "df"
   ]
  },
  {
   "cell_type": "code",
   "execution_count": 13,
   "id": "c3718875-f435-498d-aa31-373d49e76fa3",
   "metadata": {},
   "outputs": [
    {
     "name": "stdout",
     "output_type": "stream",
     "text": [
      "All pages have been scraped!\n",
      "                                                                                Link              Name    Price  Color\n",
      "1    https://www.carpages.ca/used-cars/ontario/north-york/2010-toyota-rav4-11078852/  2010 Toyota RAV4   $9,800  White\n",
      "2   https://www.carpages.ca/used-cars/ontario/scarborough/2020-toyota-rav4-11078846/  2020 Toyota RAV4  $27,895  Black\n",
      "3      https://www.carpages.ca/used-cars/ontario/pembroke/2023-toyota-rav4-11078795/  2023 Toyota RAV4  $42,904  Black\n",
      "4      https://www.carpages.ca/used-cars/ontario/pembroke/2023-toyota-rav4-11078789/  2023 Toyota RAV4  $42,904  Black\n",
      "5    https://www.carpages.ca/used-cars/ontario/north-york/2010-toyota-rav4-11078852/  2010 Toyota RAV4   $9,800  White\n",
      "6   https://www.carpages.ca/used-cars/ontario/scarborough/2020-toyota-rav4-11078846/  2020 Toyota RAV4  $27,895  Black\n",
      "7      https://www.carpages.ca/used-cars/ontario/pembroke/2023-toyota-rav4-11078795/  2023 Toyota RAV4  $42,904  Black\n",
      "8      https://www.carpages.ca/used-cars/ontario/pembroke/2023-toyota-rav4-11078789/  2023 Toyota RAV4  $42,904  Black\n",
      "9    https://www.carpages.ca/used-cars/ontario/north-york/2010-toyota-rav4-11078852/  2010 Toyota RAV4   $9,800  White\n",
      "10  https://www.carpages.ca/used-cars/ontario/scarborough/2020-toyota-rav4-11078846/  2020 Toyota RAV4  $27,895  Black\n",
      "11     https://www.carpages.ca/used-cars/ontario/pembroke/2023-toyota-rav4-11078795/  2023 Toyota RAV4  $42,904  Black\n",
      "12     https://www.carpages.ca/used-cars/ontario/pembroke/2023-toyota-rav4-11078789/  2023 Toyota RAV4  $42,904  Black\n",
      "13   https://www.carpages.ca/used-cars/ontario/north-york/2010-toyota-rav4-11078852/  2010 Toyota RAV4   $9,800  White\n",
      "14  https://www.carpages.ca/used-cars/ontario/scarborough/2020-toyota-rav4-11078846/  2020 Toyota RAV4  $27,895  Black\n",
      "15     https://www.carpages.ca/used-cars/ontario/pembroke/2023-toyota-rav4-11078795/  2023 Toyota RAV4  $42,904  Black\n",
      "16     https://www.carpages.ca/used-cars/ontario/pembroke/2023-toyota-rav4-11078789/  2023 Toyota RAV4  $42,904  Black\n",
      "17   https://www.carpages.ca/used-cars/ontario/north-york/2010-toyota-rav4-11078852/  2010 Toyota RAV4   $9,800  White\n",
      "18  https://www.carpages.ca/used-cars/ontario/scarborough/2020-toyota-rav4-11078846/  2020 Toyota RAV4  $27,895  Black\n",
      "19     https://www.carpages.ca/used-cars/ontario/pembroke/2023-toyota-rav4-11078795/  2023 Toyota RAV4  $42,904  Black\n",
      "20     https://www.carpages.ca/used-cars/ontario/pembroke/2023-toyota-rav4-11078789/  2023 Toyota RAV4  $42,904  Black\n"
     ]
    }
   ],
   "source": [
    "page_num = 1\n",
    "try:\n",
    "    while page_num < 11:\n",
    "        postings = soup.find_all(\"div\", class_ = \"t-flex t-gap-6 t-items-start t-p-6\")\n",
    "\n",
    "        for post in postings:\n",
    "            link = \"https://www.carpages.ca\" + post.find(\"a\", class_ = \"t-flex t-items-start t-w-[130px] t-shrink-0\").get(\"href\") \n",
    "            name = post.find(\"h4\", class_ = \"hN\").text.strip()\n",
    "\n",
    "            price = post.find(\"span\", class_ = \"t-font-bold t-text-xl\").text.strip()\n",
    "            \n",
    "            if post.find(\"div\", class_ = \"t-text-gray-500 t-flex t-items-center t-gap-2\").text:\n",
    "                color = post.find(\"span\", class_ = \"t-text-sm t-font-bold\").text.strip()\n",
    "            else:\n",
    "                color = none\n",
    "                \n",
    "            df.loc[len(df) + 1] = {\"Link\": link, \"Name\": name, \"Price\": price, \"Color\": color}\n",
    "\n",
    "        page = requests.get(\"https://www.carpages.ca\" + soup.find(\"a\", class_ = \"nextprev\").get(\"href\"))\n",
    "        soup = BeautifulSoup(page.text, \"html.parser\")\n",
    "\n",
    "        page_num += 1\n",
    "\n",
    "except AttributeError:\n",
    "    print(\"All pages have been scraped!\")\n",
    "finally:\n",
    "    with pd.option_context(\"expand_frame_repr\", False):\n",
    "        print (df.head(20))\n",
    "    pd.set_option(\"display.max_colwidth\", None)\n",
    "    "
   ]
  }
 ],
 "metadata": {
  "kernelspec": {
   "display_name": "Python 3 (ipykernel)",
   "language": "python",
   "name": "python3"
  },
  "language_info": {
   "codemirror_mode": {
    "name": "ipython",
    "version": 3
   },
   "file_extension": ".py",
   "mimetype": "text/x-python",
   "name": "python",
   "nbconvert_exporter": "python",
   "pygments_lexer": "ipython3",
   "version": "3.11.7"
  }
 },
 "nbformat": 4,
 "nbformat_minor": 5
}
